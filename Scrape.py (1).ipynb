{
 "cells": [
  {
   "cell_type": "code",
   "execution_count": 1,
   "id": "83a28c54",
   "metadata": {},
   "outputs": [],
   "source": [
    "import requests\n",
    "from bs4 import BeautifulSoup"
   ]
  },
  {
   "cell_type": "code",
   "execution_count": 2,
   "id": "bc74adbf",
   "metadata": {},
   "outputs": [],
   "source": [
    "def scrape_website(url, output_file):\n",
    "    try:\n",
    "        # Send a GET request to the website\n",
    "        response = requests.get(url)\n",
    "        response.raise_for_status()\n",
    "\n",
    "        # Parse the HTML content using BeautifulSoup\n",
    "        soup = BeautifulSoup(response.text, 'html.parser')\n",
    "\n",
    "        # Extract text content from the website\n",
    "        text_content = soup.get_text()\n",
    "\n",
    "        # Save the text content to a text file\n",
    "        with open(output_file, 'w', encoding='utf-8') as file:\n",
    "            file.write(text_content)\n",
    "\n",
    "        print(f'Data from {url} has been scraped and saved to {output_file}.')\n",
    "\n",
    "    except requests.exceptions.RequestException as e:\n",
    "        print(f\"An error occurred: {e}\")\n",
    "    except Exception as e:\n",
    "        print(f\"An unexpected error occurred: {e}\")"
   ]
  },
  {
   "cell_type": "code",
   "execution_count": 4,
   "id": "c4e2b506",
   "metadata": {},
   "outputs": [
    {
     "name": "stdout",
     "output_type": "stream",
     "text": [
      "Data from https://www.bea.gov/ has been scraped and saved to output.txt.\n"
     ]
    }
   ],
   "source": [
    "if __name__ == \"__main__\":\n",
    "    website_url = 'https://www.bea.gov/'\n",
    "\n",
    "    output_file = 'output.txt'\n",
    "\n",
    "    scrape_website(website_url, output_file)"
   ]
  },
  {
   "cell_type": "code",
   "execution_count": null,
   "id": "817bf18f",
   "metadata": {},
   "outputs": [],
   "source": []
  }
 ],
 "metadata": {
  "kernelspec": {
   "display_name": "Python 3 (ipykernel)",
   "language": "python",
   "name": "python3"
  },
  "language_info": {
   "codemirror_mode": {
    "name": "ipython",
    "version": 3
   },
   "file_extension": ".py",
   "mimetype": "text/x-python",
   "name": "python",
   "nbconvert_exporter": "python",
   "pygments_lexer": "ipython3",
   "version": "3.9.7"
  }
 },
 "nbformat": 4,
 "nbformat_minor": 5
}
